{
 "cells": [
  {
   "cell_type": "markdown",
   "metadata": {},
   "source": [
    "## Script to evaluate the E2E and two-step NER from speech as mentioned in the paper"
   ]
  },
  {
   "cell_type": "code",
   "execution_count": null,
   "metadata": {},
   "outputs": [],
   "source": [
    "import numpy as np\n",
    "from tqdm .auto import tqdm\n",
    "import glob, os"
   ]
  },
  {
   "cell_type": "code",
   "execution_count": null,
   "metadata": {},
   "outputs": [],
   "source": [
    "def rea(file):\n",
    "    '''\n",
    "    function to read the text files and \n",
    "    return a list containig the named entities in the input text file.\n",
    "    \n",
    "    file: path to theinput text file (ground truth orpredicted)\n",
    "    \n",
    "    '''\n",
    "    with open(file, 'r') as f:\n",
    "        dummy = f.read()\n",
    "    l = ''\n",
    "    w = ''\n",
    "    for i in dummy:\n",
    "        if i in start:\n",
    "            l+= i\n",
    "            w= '-'\n",
    "        elif w == '-' and len(l) != 0:\n",
    "            l+= i\n",
    "        if i in stop:\n",
    "            l+= ','\n",
    "            w = ''\n",
    "    return l[:-1].split(',')"
   ]
  },
  {
   "cell_type": "code",
   "execution_count": null,
   "metadata": {},
   "outputs": [],
   "source": [
    "def main(true, pred):\n",
    "    '''\n",
    "    Function to condition a named enity has a start nd end symbol\n",
    "    \n",
    "    true: list of list of true named entities.\n",
    "    pred: list of list of predicted named entities\n",
    "    '''\n",
    "    t = []\n",
    "    for i in true:\n",
    "        for j in i:\n",
    "            if j: t.append(j)\n",
    "\n",
    "    t_ = []\n",
    "    for i in t:\n",
    "        s,st =0, 0\n",
    "        for j in i:\n",
    "            if j in start:\n",
    "                s+=1\n",
    "            if j in stop:\n",
    "                st+=1\n",
    "        if s ==st:\n",
    "            t_.append(i)    \n",
    "    t = t_\n",
    "\n",
    "    p = []\n",
    "    for i in pred:\n",
    "        for j in i:\n",
    "            if j: p.append(j)\n",
    "\n",
    "    p_ = []\n",
    "    for i in p:\n",
    "        s,st =0, 0\n",
    "        for j in i:\n",
    "            if j in start:\n",
    "                s+=1\n",
    "            if j in stop:\n",
    "                st+=1\n",
    "        if s ==st:\n",
    "            p_.append(i)    \n",
    "    p = p_\n",
    "    return t,p"
   ]
  },
  {
   "cell_type": "code",
   "execution_count": null,
   "metadata": {},
   "outputs": [],
   "source": [
    "def score(tp, fp, fn):\n",
    "    '''\n",
    "    \n",
    "    Function to calcualte the F1 score.\n",
    "    tp: true positives.\n",
    "    fp: false positives.\n",
    "    fn: false negatives.\n",
    "    \n",
    "    '''\n",
    "    if tp == 0:\n",
    "        pre, rec, f1 = 0, 0, 0\n",
    "    else:\n",
    "        pre = np.round(tp/(tp+fp),decimals=3)\n",
    "        rec = np.round(tp/(tp+fn),decimals=3)\n",
    "        f1 = np.round(2*((pre*rec)/(pre+rec)),decimals=3)\n",
    "    return pre, rec, f1"
   ]
  },
  {
   "cell_type": "code",
   "execution_count": null,
   "metadata": {},
   "outputs": [],
   "source": [
    "# path to the folder containing all the ground truth files\n",
    "true_path =  '/home/hemant/asr_wm/data/ner/txt/without_space/dev/'\n",
    "# path to the folder containing all the predicted files\n",
    "pred_path = '/home/hemant/asr_wm/data/dev/'\n",
    "\n",
    "files = [os.path.basename(i) for i in glob.glob(f\"{true_path}*.txt\")]\n",
    "\n",
    "prf = [] # precison, recall, and f1 score for all the individual files.\n",
    "tpfp = [] # true positives,false postives,and false negatives for all the individual files.\n",
    "\n",
    "# symbol to denote the end of a named entity.\n",
    "stop = [']']\n",
    "# symbol to denote the start of each 3 named entitites.\n",
    "start = [\"|\", \"{\", \"$\"]"
   ]
  },
  {
   "cell_type": "code",
   "execution_count": null,
   "metadata": {
    "scrolled": true
   },
   "outputs": [],
   "source": [
    "# calcualtes the score for each individual named entity i.e., person, location and organization.\n",
    "\n",
    "for j in [\"|\", \"{\", \"$\"]:\n",
    "    start = [j]\n",
    "    print(start)\n",
    "    tp, fp, fn = 0, 0, 0\n",
    "    t_ = []\n",
    "    \n",
    "    for i in tqdm(range(len(files))):\n",
    "        true = [rea(f\"{true_path}/{files[i]}\")]\n",
    "        pred = [rea(f\"{pred_path}/{files[i]}\")]\n",
    "        \n",
    "        t, p = main(true,pred)\n",
    "        t = [i for i in t]\n",
    "        p = [i for i in p]\n",
    "\n",
    "        tp+=  len(set(p).intersection(t))\n",
    "        fp+= len(set(p) - set(t)) \n",
    "        fn+=  len(set(t) - set(p))\n",
    "    pre, rec,f1 = score(tp, fp, fn)\n",
    "    prf.append([pre,rec,f1])\n",
    "    tpfp.append([tp,fp,fn])\n",
    "    print(f\"prec is {pre}\\n recall is {rec}\\n f1 score is {f1}\")"
   ]
  },
  {
   "cell_type": "code",
   "execution_count": null,
   "metadata": {},
   "outputs": [],
   "source": [
    "# macro score\n",
    "np.round((prf[0][0] + prf[1][0] + prf[0][0] ) /3,3),np.round((prf[0][1] + prf[1][1] + prf[2][1] ) /3,3), np.round((prf[0][2] + prf[1][2] + prf[2][2] ) /3,3) "
   ]
  },
  {
   "cell_type": "code",
   "execution_count": null,
   "metadata": {},
   "outputs": [],
   "source": [
    "# micro score\n",
    "score(tpfp[0][0] + tpfp[1][0] + tpfp[2][0], tpfp[0][1] +tpfp[1][1] + tpfp[2][1], tpfp[0][2] + tpfp[1][2] + tpfp[2][2])"
   ]
  },
  {
   "cell_type": "code",
   "execution_count": null,
   "metadata": {},
   "outputs": [],
   "source": [
    "# calcualtes the f1 score considering all the named entities as one.\n",
    "\n",
    "start = [\"|\", \"{\", \"$\"]\n",
    "for i in tqdm(range(len(files))):\n",
    "        \n",
    "    true = [rea(f\"{true_path}/{files[i]}\")]\n",
    "    pred = [rea(f\"{pred_path}/{files[i]}\")]\n",
    "        \n",
    "    t, p = main(true,pred)\n",
    "    t = [i for i in t]\n",
    "    p = [i for i in p]\n",
    "\n",
    "    tp+=  len(set(p).intersection(t))\n",
    "    fp+= len(set(p) - set(t)) \n",
    "    fn+=  len(set(t) - set(p))\n",
    "\n",
    "pre, rec,f1 = score(tp, fp, fn)\n",
    "print(f\"prec is {pre}\\n recall is {rec}\\n f1 score is {f1}\")"
   ]
  },
  {
   "cell_type": "code",
   "execution_count": null,
   "metadata": {},
   "outputs": [],
   "source": []
  }
 ],
 "metadata": {
  "kernelspec": {
   "display_name": "Python 3",
   "language": "python",
   "name": "python3"
  },
  "language_info": {
   "codemirror_mode": {
    "name": "ipython",
    "version": 3
   },
   "file_extension": ".py",
   "mimetype": "text/x-python",
   "name": "python",
   "nbconvert_exporter": "python",
   "pygments_lexer": "ipython3",
   "version": "3.6.9"
  }
 },
 "nbformat": 4,
 "nbformat_minor": 2
}
