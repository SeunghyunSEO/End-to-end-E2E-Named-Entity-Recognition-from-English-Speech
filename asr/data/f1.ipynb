{
 "cells": [
  {
   "cell_type": "code",
   "execution_count": 67,
   "metadata": {},
   "outputs": [],
   "source": [
    "import numpy as np\n",
    "from tqdm .auto import tqdm\n",
    "import glob, os\n",
    "from IPython.display import display as ipd\n",
    "import IPython"
   ]
  },
  {
   "cell_type": "code",
   "execution_count": 75,
   "metadata": {},
   "outputs": [],
   "source": [
    "true_path =  '/home/hemant/asr_wm/data/ner/txt/without_space/dev/*.txt'\n",
    "pred_path = '/home/hemant/asr_wm/data/save_2/without_space/without_lm/beam/dev/*.txt'\n",
    "\n",
    "stop = [']']"
   ]
  },
  {
   "cell_type": "code",
   "execution_count": 76,
   "metadata": {},
   "outputs": [],
   "source": [
    "def rea(file):\n",
    "    with open(file, 'r') as f:\n",
    "        dummy = f.read()\n",
    "    l = ''\n",
    "    w = ''\n",
    "    for i in dummy:\n",
    "        if i in start:\n",
    "            l+= i\n",
    "            w= '-'\n",
    "        elif w == '-' and len(l) != 0:\n",
    "            l+= i\n",
    "        if i in stop:\n",
    "            l+= ','\n",
    "            w = ''\n",
    "    return l[:-1].split(',')"
   ]
  },
  {
   "cell_type": "code",
   "execution_count": 77,
   "metadata": {},
   "outputs": [],
   "source": [
    "def main(true, pred):\n",
    "    t = []\n",
    "    for i in true:\n",
    "        for j in i:\n",
    "            if j: t.append(j)\n",
    "\n",
    "    t_ = []\n",
    "    for i in t:\n",
    "        s,st =0, 0\n",
    "        for j in i:\n",
    "            if j in start:\n",
    "                s+=1\n",
    "            if j in stop:\n",
    "                st+=1\n",
    "        if s ==st:\n",
    "            t_.append(i)    \n",
    "    t = t_\n",
    "\n",
    "    p = []\n",
    "    for i in pred:\n",
    "        for j in i:\n",
    "            if j: p.append(j)\n",
    "\n",
    "    p_ = []\n",
    "    for i in p:\n",
    "        s,st =0, 0\n",
    "        for j in i:\n",
    "            if j in start:\n",
    "                s+=1\n",
    "            if j in stop:\n",
    "                st+=1\n",
    "        if s ==st:\n",
    "            p_.append(i)    \n",
    "    p = p_\n",
    "    return t,p"
   ]
  },
  {
   "cell_type": "code",
   "execution_count": 78,
   "metadata": {},
   "outputs": [],
   "source": [
    "def score(tp, fp, fn):\n",
    "    if tp == 0:\n",
    "        pre, rec, f1 = 0, 0, 0\n",
    "    else:\n",
    "        pre = np.round(tp/(tp+fp),decimals=3)\n",
    "        rec = np.round(tp/(tp+fn),decimals=3)\n",
    "        f1 = np.round(2*((pre*rec)/(pre+rec)),decimals=3)\n",
    "    return pre, rec, f1"
   ]
  },
  {
   "cell_type": "code",
   "execution_count": null,
   "metadata": {},
   "outputs": [],
   "source": []
  },
  {
   "cell_type": "code",
   "execution_count": 79,
   "metadata": {
    "scrolled": true
   },
   "outputs": [
    {
     "name": "stdout",
     "output_type": "stream",
     "text": [
      "['|']\n"
     ]
    },
    {
     "data": {
      "application/vnd.jupyter.widget-view+json": {
       "model_id": "3f537d0075ea49a1bd285a45411c9d0c",
       "version_major": 2,
       "version_minor": 0
      },
      "text/plain": [
       "HBox(children=(FloatProgress(value=0.0, max=3100.0), HTML(value='')))"
      ]
     },
     "metadata": {},
     "output_type": "display_data"
    },
    {
     "name": "stdout",
     "output_type": "stream",
     "text": [
      "\n",
      "prec is 0.355\n",
      " recall is 0.21\n",
      " f1 score is 0.264\n",
      "['{']\n"
     ]
    },
    {
     "data": {
      "application/vnd.jupyter.widget-view+json": {
       "model_id": "09bb629b084445fbbfa0d7c5273de773",
       "version_major": 2,
       "version_minor": 0
      },
      "text/plain": [
       "HBox(children=(FloatProgress(value=0.0, max=3100.0), HTML(value='')))"
      ]
     },
     "metadata": {},
     "output_type": "display_data"
    },
    {
     "name": "stdout",
     "output_type": "stream",
     "text": [
      "\n",
      "prec is 0.13\n",
      " recall is 0.026\n",
      " f1 score is 0.043\n",
      "['$']\n"
     ]
    },
    {
     "data": {
      "application/vnd.jupyter.widget-view+json": {
       "model_id": "e74c9ce299e2421b8c136ba59a76f0dc",
       "version_major": 2,
       "version_minor": 0
      },
      "text/plain": [
       "HBox(children=(FloatProgress(value=0.0, max=3100.0), HTML(value='')))"
      ]
     },
     "metadata": {},
     "output_type": "display_data"
    },
    {
     "name": "stdout",
     "output_type": "stream",
     "text": [
      "\n",
      "prec is 0.487\n",
      " recall is 0.273\n",
      " f1 score is 0.35\n"
     ]
    }
   ],
   "source": [
    "true_ = glob.glob(true_path)\n",
    "pred_ = glob.glob(pred_path)\n",
    "prf = []\n",
    "tpfp = []\n",
    "assert len(true_) == len(pred_)\n",
    "for j in [\"|\", \"{\", \"$\"]:\n",
    "    start = [j]\n",
    "    print(start)\n",
    "    tp, fp, fn = 0, 0, 0\n",
    "    t_ = []\n",
    "    \n",
    "    for i in tqdm(range(len(true_))):\n",
    "        \n",
    "        true = [rea(true_[i])]\n",
    "        pred = [rea(pred_[i])]\n",
    "        t, p = main(true,pred)\n",
    "        t = [i for i in t]\n",
    "        p = [i for i in p]\n",
    "\n",
    "        tp+=  len(set(p).intersection(t))\n",
    "        fp+= len(set(p) - set(t)) \n",
    "        fn+=  len(set(t) - set(p))\n",
    "\n",
    "    pre, rec,f1 = score(tp, fp, fn)\n",
    "    prf.append([pre,rec,f1])\n",
    "    tpfp.append([tp,fp,fn])\n",
    "    print(f\"prec is {pre}\\n recall is {rec}\\n f1 score is {f1}\")"
   ]
  },
  {
   "cell_type": "code",
   "execution_count": null,
   "metadata": {},
   "outputs": [],
   "source": []
  },
  {
   "cell_type": "code",
   "execution_count": 80,
   "metadata": {},
   "outputs": [
    {
     "data": {
      "text/plain": [
       "(0.28, 0.17, 0.219)"
      ]
     },
     "execution_count": 80,
     "metadata": {},
     "output_type": "execute_result"
    }
   ],
   "source": [
    "#macro\n",
    "np.round((prf[0][0] + prf[1][0] + prf[0][0] ) /3,3),np.round((prf[0][1] + prf[1][1] + prf[2][1] ) /3,3), np.round((prf[0][2] + prf[1][2] + prf[2][2] ) /3,3) "
   ]
  },
  {
   "cell_type": "code",
   "execution_count": 81,
   "metadata": {},
   "outputs": [
    {
     "data": {
      "text/plain": [
       "(0.393, 0.219, 0.281)"
      ]
     },
     "execution_count": 81,
     "metadata": {},
     "output_type": "execute_result"
    }
   ],
   "source": [
    "#micro\n",
    "score(tpfp[0][0] + tpfp[1][0] + tpfp[2][0], tpfp[0][1] +tpfp[1][1] + tpfp[2][1], tpfp[0][2] + tpfp[1][2] + tpfp[2][2])"
   ]
  },
  {
   "cell_type": "code",
   "execution_count": 66,
   "metadata": {},
   "outputs": [
    {
     "data": {
      "application/vnd.jupyter.widget-view+json": {
       "model_id": "484d058d1e524e3a85b4e5045ef9424f",
       "version_major": 2,
       "version_minor": 0
      },
      "text/plain": [
       "HBox(children=(FloatProgress(value=0.0, max=3100.0), HTML(value='')))"
      ]
     },
     "metadata": {},
     "output_type": "display_data"
    },
    {
     "name": "stdout",
     "output_type": "stream",
     "text": [
      "\n",
      "prec is 0.419\n",
      " recall is 0.223\n",
      " f1 score is 0.291\n"
     ]
    }
   ],
   "source": [
    "start = [\"|\", \"{\", \"$\"]\n",
    "for i in tqdm(range(len(true_))):\n",
    "        \n",
    "    true = [rea(true_[i])]\n",
    "    pred = [rea(pred_[i])]\n",
    "    t, p = main(true,pred)\n",
    "    t = [i for i in t]\n",
    "    p = [i for i in p]\n",
    "\n",
    "    tp+=  len(set(p).intersection(t))\n",
    "    fp+= len(set(p) - set(t)) \n",
    "    fn+=  len(set(t) - set(p))\n",
    "\n",
    "pre, rec,f1 = score(tp, fp, fn)\n",
    "print(f\"prec is {pre}\\n recall is {rec}\\n f1 score is {f1}\")"
   ]
  },
  {
   "cell_type": "code",
   "execution_count": null,
   "metadata": {},
   "outputs": [],
   "source": []
  },
  {
   "cell_type": "code",
   "execution_count": null,
   "metadata": {},
   "outputs": [],
   "source": []
  },
  {
   "cell_type": "code",
   "execution_count": null,
   "metadata": {},
   "outputs": [],
   "source": []
  },
  {
   "cell_type": "code",
   "execution_count": 147,
   "metadata": {},
   "outputs": [],
   "source": [
    "def rea_(file):\n",
    "    with open(file, 'r') as f:\n",
    "        return f.read()"
   ]
  },
  {
   "cell_type": "code",
   "execution_count": null,
   "metadata": {},
   "outputs": [],
   "source": [
    "file_name = pred[2]\n",
    "IPython.display.Audio('/home/hemant/asr_wm/data/ner/align_wav_txt/'\n",
    "                      + os.path.basename(file_name).split('.')[0] + '.wav')"
   ]
  },
  {
   "cell_type": "code",
   "execution_count": null,
   "metadata": {
    "scrolled": true
   },
   "outputs": [],
   "source": [
    "for i in range(len(pred)):\n",
    "    try:\n",
    "        p,r,f1 = main([pred[i]],[true[i]],show=False)\n",
    "        \n",
    "        if p < 1:\n",
    "            print('true: ',rea(true[i]))\n",
    "            print('pred: ', rea(pred[i]))\n",
    "            output = 'prec\\trec\\tf1\\n'\n",
    "            output +=f'{p}\\t{r}\\t{f1}\\n'\n",
    "            print(output)\n",
    "            ipd(IPython.display.Audio('/home/hemant/asr_wm/data/ner/align_wav_txt/'+\n",
    "                                      os.path.basename(pred[i]).split('.')[0] + '.wav'))\n",
    "            print('--',pred[i])\n",
    "    except: \n",
    "        print('skipped---',pred[i])\n",
    "    print('--------------------------------------------------------')"
   ]
  },
  {
   "cell_type": "code",
   "execution_count": null,
   "metadata": {},
   "outputs": [],
   "source": [
    "out =rea('/home/hemant/asr_wm/data/ner/pp_without_misc/without_space/out.txt').split('\\n')"
   ]
  },
  {
   "cell_type": "code",
   "execution_count": null,
   "metadata": {},
   "outputs": [],
   "source": [
    "for i in out:\n",
    "    print(i,'\\n----------------')"
   ]
  },
  {
   "cell_type": "code",
   "execution_count": null,
   "metadata": {},
   "outputs": [],
   "source": []
  },
  {
   "cell_type": "code",
   "execution_count": null,
   "metadata": {},
   "outputs": [],
   "source": []
  },
  {
   "cell_type": "code",
   "execution_count": null,
   "metadata": {},
   "outputs": [],
   "source": []
  },
  {
   "cell_type": "code",
   "execution_count": null,
   "metadata": {},
   "outputs": [],
   "source": [
    "for i in rea_('/home/hemant/asr_wm/data/ner/pp_without_misc/without_space/ner.csv'):\n",
    "    command = f\"cp {i.split(',')[-1].strip()} /home/hemant/dummy/{i.split(',')[-1].strip().split('/')[-1]}\"\n",
    "    os.system(command)"
   ]
  },
  {
   "cell_type": "code",
   "execution_count": null,
   "metadata": {},
   "outputs": [],
   "source": []
  }
 ],
 "metadata": {
  "kernelspec": {
   "display_name": "Python 3",
   "language": "python",
   "name": "python3"
  },
  "language_info": {
   "codemirror_mode": {
    "name": "ipython",
    "version": 3
   },
   "file_extension": ".py",
   "mimetype": "text/x-python",
   "name": "python",
   "nbconvert_exporter": "python",
   "pygments_lexer": "ipython3",
   "version": "3.6.9"
  }
 },
 "nbformat": 4,
 "nbformat_minor": 2
}
